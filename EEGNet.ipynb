{
  "nbformat": 4,
  "nbformat_minor": 0,
  "metadata": {
    "colab": {
      "provenance": [],
      "collapsed_sections": []
    },
    "kernelspec": {
      "name": "python3",
      "display_name": "Python 3"
    },
    "language_info": {
      "name": "python"
    },
    "widgets": {
      "application/vnd.jupyter.widget-state+json": {
        "3774a3179e9347e1bc65a3d78aaf124f": {
          "model_module": "@jupyter-widgets/controls",
          "model_name": "HBoxModel",
          "model_module_version": "1.5.0",
          "state": {
            "_dom_classes": [],
            "_model_module": "@jupyter-widgets/controls",
            "_model_module_version": "1.5.0",
            "_model_name": "HBoxModel",
            "_view_count": null,
            "_view_module": "@jupyter-widgets/controls",
            "_view_module_version": "1.5.0",
            "_view_name": "HBoxView",
            "box_style": "",
            "children": [
              "IPY_MODEL_2fd67d744ee9417398d18ec6e5efba68",
              "IPY_MODEL_f2f5ec55b57e4657872180feb7a28a6c",
              "IPY_MODEL_6ee682df1333446a9f4e325ea7750885"
            ],
            "layout": "IPY_MODEL_1f66324d9b88477b9963184373e7c8f4"
          }
        },
        "2fd67d744ee9417398d18ec6e5efba68": {
          "model_module": "@jupyter-widgets/controls",
          "model_name": "HTMLModel",
          "model_module_version": "1.5.0",
          "state": {
            "_dom_classes": [],
            "_model_module": "@jupyter-widgets/controls",
            "_model_module_version": "1.5.0",
            "_model_name": "HTMLModel",
            "_view_count": null,
            "_view_module": "@jupyter-widgets/controls",
            "_view_module_version": "1.5.0",
            "_view_name": "HTMLView",
            "description": "",
            "description_tooltip": null,
            "layout": "IPY_MODEL_027a485528644758b5620950a088c30f",
            "placeholder": "​",
            "style": "IPY_MODEL_84d715194e45469f9019f10a027f5a1b",
            "value": "100%"
          }
        },
        "f2f5ec55b57e4657872180feb7a28a6c": {
          "model_module": "@jupyter-widgets/controls",
          "model_name": "FloatProgressModel",
          "model_module_version": "1.5.0",
          "state": {
            "_dom_classes": [],
            "_model_module": "@jupyter-widgets/controls",
            "_model_module_version": "1.5.0",
            "_model_name": "FloatProgressModel",
            "_view_count": null,
            "_view_module": "@jupyter-widgets/controls",
            "_view_module_version": "1.5.0",
            "_view_name": "ProgressView",
            "bar_style": "success",
            "description": "",
            "description_tooltip": null,
            "layout": "IPY_MODEL_ef5128c63e504f3fa46f7ae4f9855058",
            "max": 553433881,
            "min": 0,
            "orientation": "horizontal",
            "style": "IPY_MODEL_b4657ccdf5004f4eb353b89b5c1f6ded",
            "value": 553433881
          }
        },
        "6ee682df1333446a9f4e325ea7750885": {
          "model_module": "@jupyter-widgets/controls",
          "model_name": "HTMLModel",
          "model_module_version": "1.5.0",
          "state": {
            "_dom_classes": [],
            "_model_module": "@jupyter-widgets/controls",
            "_model_module_version": "1.5.0",
            "_model_name": "HTMLModel",
            "_view_count": null,
            "_view_module": "@jupyter-widgets/controls",
            "_view_module_version": "1.5.0",
            "_view_name": "HTMLView",
            "description": "",
            "description_tooltip": null,
            "layout": "IPY_MODEL_7de4b8f7019a41c2bf640532de8deb03",
            "placeholder": "​",
            "style": "IPY_MODEL_06529ce4fe334a6a89b125bcd5d058a7",
            "value": " 528M/528M [00:06&lt;00:00, 109MB/s]"
          }
        },
        "1f66324d9b88477b9963184373e7c8f4": {
          "model_module": "@jupyter-widgets/base",
          "model_name": "LayoutModel",
          "model_module_version": "1.2.0",
          "state": {
            "_model_module": "@jupyter-widgets/base",
            "_model_module_version": "1.2.0",
            "_model_name": "LayoutModel",
            "_view_count": null,
            "_view_module": "@jupyter-widgets/base",
            "_view_module_version": "1.2.0",
            "_view_name": "LayoutView",
            "align_content": null,
            "align_items": null,
            "align_self": null,
            "border": null,
            "bottom": null,
            "display": null,
            "flex": null,
            "flex_flow": null,
            "grid_area": null,
            "grid_auto_columns": null,
            "grid_auto_flow": null,
            "grid_auto_rows": null,
            "grid_column": null,
            "grid_gap": null,
            "grid_row": null,
            "grid_template_areas": null,
            "grid_template_columns": null,
            "grid_template_rows": null,
            "height": null,
            "justify_content": null,
            "justify_items": null,
            "left": null,
            "margin": null,
            "max_height": null,
            "max_width": null,
            "min_height": null,
            "min_width": null,
            "object_fit": null,
            "object_position": null,
            "order": null,
            "overflow": null,
            "overflow_x": null,
            "overflow_y": null,
            "padding": null,
            "right": null,
            "top": null,
            "visibility": null,
            "width": null
          }
        },
        "027a485528644758b5620950a088c30f": {
          "model_module": "@jupyter-widgets/base",
          "model_name": "LayoutModel",
          "model_module_version": "1.2.0",
          "state": {
            "_model_module": "@jupyter-widgets/base",
            "_model_module_version": "1.2.0",
            "_model_name": "LayoutModel",
            "_view_count": null,
            "_view_module": "@jupyter-widgets/base",
            "_view_module_version": "1.2.0",
            "_view_name": "LayoutView",
            "align_content": null,
            "align_items": null,
            "align_self": null,
            "border": null,
            "bottom": null,
            "display": null,
            "flex": null,
            "flex_flow": null,
            "grid_area": null,
            "grid_auto_columns": null,
            "grid_auto_flow": null,
            "grid_auto_rows": null,
            "grid_column": null,
            "grid_gap": null,
            "grid_row": null,
            "grid_template_areas": null,
            "grid_template_columns": null,
            "grid_template_rows": null,
            "height": null,
            "justify_content": null,
            "justify_items": null,
            "left": null,
            "margin": null,
            "max_height": null,
            "max_width": null,
            "min_height": null,
            "min_width": null,
            "object_fit": null,
            "object_position": null,
            "order": null,
            "overflow": null,
            "overflow_x": null,
            "overflow_y": null,
            "padding": null,
            "right": null,
            "top": null,
            "visibility": null,
            "width": null
          }
        },
        "84d715194e45469f9019f10a027f5a1b": {
          "model_module": "@jupyter-widgets/controls",
          "model_name": "DescriptionStyleModel",
          "model_module_version": "1.5.0",
          "state": {
            "_model_module": "@jupyter-widgets/controls",
            "_model_module_version": "1.5.0",
            "_model_name": "DescriptionStyleModel",
            "_view_count": null,
            "_view_module": "@jupyter-widgets/base",
            "_view_module_version": "1.2.0",
            "_view_name": "StyleView",
            "description_width": ""
          }
        },
        "ef5128c63e504f3fa46f7ae4f9855058": {
          "model_module": "@jupyter-widgets/base",
          "model_name": "LayoutModel",
          "model_module_version": "1.2.0",
          "state": {
            "_model_module": "@jupyter-widgets/base",
            "_model_module_version": "1.2.0",
            "_model_name": "LayoutModel",
            "_view_count": null,
            "_view_module": "@jupyter-widgets/base",
            "_view_module_version": "1.2.0",
            "_view_name": "LayoutView",
            "align_content": null,
            "align_items": null,
            "align_self": null,
            "border": null,
            "bottom": null,
            "display": null,
            "flex": null,
            "flex_flow": null,
            "grid_area": null,
            "grid_auto_columns": null,
            "grid_auto_flow": null,
            "grid_auto_rows": null,
            "grid_column": null,
            "grid_gap": null,
            "grid_row": null,
            "grid_template_areas": null,
            "grid_template_columns": null,
            "grid_template_rows": null,
            "height": null,
            "justify_content": null,
            "justify_items": null,
            "left": null,
            "margin": null,
            "max_height": null,
            "max_width": null,
            "min_height": null,
            "min_width": null,
            "object_fit": null,
            "object_position": null,
            "order": null,
            "overflow": null,
            "overflow_x": null,
            "overflow_y": null,
            "padding": null,
            "right": null,
            "top": null,
            "visibility": null,
            "width": null
          }
        },
        "b4657ccdf5004f4eb353b89b5c1f6ded": {
          "model_module": "@jupyter-widgets/controls",
          "model_name": "ProgressStyleModel",
          "model_module_version": "1.5.0",
          "state": {
            "_model_module": "@jupyter-widgets/controls",
            "_model_module_version": "1.5.0",
            "_model_name": "ProgressStyleModel",
            "_view_count": null,
            "_view_module": "@jupyter-widgets/base",
            "_view_module_version": "1.2.0",
            "_view_name": "StyleView",
            "bar_color": null,
            "description_width": ""
          }
        },
        "7de4b8f7019a41c2bf640532de8deb03": {
          "model_module": "@jupyter-widgets/base",
          "model_name": "LayoutModel",
          "model_module_version": "1.2.0",
          "state": {
            "_model_module": "@jupyter-widgets/base",
            "_model_module_version": "1.2.0",
            "_model_name": "LayoutModel",
            "_view_count": null,
            "_view_module": "@jupyter-widgets/base",
            "_view_module_version": "1.2.0",
            "_view_name": "LayoutView",
            "align_content": null,
            "align_items": null,
            "align_self": null,
            "border": null,
            "bottom": null,
            "display": null,
            "flex": null,
            "flex_flow": null,
            "grid_area": null,
            "grid_auto_columns": null,
            "grid_auto_flow": null,
            "grid_auto_rows": null,
            "grid_column": null,
            "grid_gap": null,
            "grid_row": null,
            "grid_template_areas": null,
            "grid_template_columns": null,
            "grid_template_rows": null,
            "height": null,
            "justify_content": null,
            "justify_items": null,
            "left": null,
            "margin": null,
            "max_height": null,
            "max_width": null,
            "min_height": null,
            "min_width": null,
            "object_fit": null,
            "object_position": null,
            "order": null,
            "overflow": null,
            "overflow_x": null,
            "overflow_y": null,
            "padding": null,
            "right": null,
            "top": null,
            "visibility": null,
            "width": null
          }
        },
        "06529ce4fe334a6a89b125bcd5d058a7": {
          "model_module": "@jupyter-widgets/controls",
          "model_name": "DescriptionStyleModel",
          "model_module_version": "1.5.0",
          "state": {
            "_model_module": "@jupyter-widgets/controls",
            "_model_module_version": "1.5.0",
            "_model_name": "DescriptionStyleModel",
            "_view_count": null,
            "_view_module": "@jupyter-widgets/base",
            "_view_module_version": "1.2.0",
            "_view_name": "StyleView",
            "description_width": ""
          }
        }
      }
    }
  },
  "cells": [
    {
      "cell_type": "code",
      "execution_count": null,
      "metadata": {
        "id": "3xCwTC48aD2a",
        "outputId": "2ff43dd0-9263-4a65-f9fe-01a042c8dc62",
        "colab": {
          "base_uri": "https://localhost:8080/"
        }
      },
      "outputs": [
        {
          "output_type": "stream",
          "name": "stdout",
          "text": [
            "Looking in indexes: https://pypi.org/simple, https://us-python.pkg.dev/colab-wheels/public/simple/\n",
            "Collecting mne\n",
            "  Downloading mne-1.1.1-py3-none-any.whl (7.5 MB)\n",
            "\u001b[K     |████████████████████████████████| 7.5 MB 2.9 MB/s \n",
            "\u001b[?25hRequirement already satisfied: numpy>=1.15.4 in /usr/local/lib/python3.7/dist-packages (from mne) (1.21.6)\n",
            "Requirement already satisfied: pooch>=1.5 in /usr/local/lib/python3.7/dist-packages (from mne) (1.6.0)\n",
            "Requirement already satisfied: scipy>=1.1.0 in /usr/local/lib/python3.7/dist-packages (from mne) (1.7.3)\n",
            "Requirement already satisfied: tqdm in /usr/local/lib/python3.7/dist-packages (from mne) (4.64.1)\n",
            "Requirement already satisfied: decorator in /usr/local/lib/python3.7/dist-packages (from mne) (4.4.2)\n",
            "Requirement already satisfied: matplotlib in /usr/local/lib/python3.7/dist-packages (from mne) (3.2.2)\n",
            "Requirement already satisfied: jinja2 in /usr/local/lib/python3.7/dist-packages (from mne) (2.11.3)\n",
            "Requirement already satisfied: packaging in /usr/local/lib/python3.7/dist-packages (from mne) (21.3)\n",
            "Requirement already satisfied: appdirs>=1.3.0 in /usr/local/lib/python3.7/dist-packages (from pooch>=1.5->mne) (1.4.4)\n",
            "Requirement already satisfied: requests>=2.19.0 in /usr/local/lib/python3.7/dist-packages (from pooch>=1.5->mne) (2.23.0)\n",
            "Requirement already satisfied: pyparsing!=3.0.5,>=2.0.2 in /usr/local/lib/python3.7/dist-packages (from packaging->mne) (3.0.9)\n",
            "Requirement already satisfied: chardet<4,>=3.0.2 in /usr/local/lib/python3.7/dist-packages (from requests>=2.19.0->pooch>=1.5->mne) (3.0.4)\n",
            "Requirement already satisfied: idna<3,>=2.5 in /usr/local/lib/python3.7/dist-packages (from requests>=2.19.0->pooch>=1.5->mne) (2.10)\n",
            "Requirement already satisfied: certifi>=2017.4.17 in /usr/local/lib/python3.7/dist-packages (from requests>=2.19.0->pooch>=1.5->mne) (2022.9.24)\n",
            "Requirement already satisfied: urllib3!=1.25.0,!=1.25.1,<1.26,>=1.21.1 in /usr/local/lib/python3.7/dist-packages (from requests>=2.19.0->pooch>=1.5->mne) (1.24.3)\n",
            "Requirement already satisfied: MarkupSafe>=0.23 in /usr/local/lib/python3.7/dist-packages (from jinja2->mne) (2.0.1)\n",
            "Requirement already satisfied: kiwisolver>=1.0.1 in /usr/local/lib/python3.7/dist-packages (from matplotlib->mne) (1.4.4)\n",
            "Requirement already satisfied: cycler>=0.10 in /usr/local/lib/python3.7/dist-packages (from matplotlib->mne) (0.11.0)\n",
            "Requirement already satisfied: python-dateutil>=2.1 in /usr/local/lib/python3.7/dist-packages (from matplotlib->mne) (2.8.2)\n",
            "Requirement already satisfied: typing-extensions in /usr/local/lib/python3.7/dist-packages (from kiwisolver>=1.0.1->matplotlib->mne) (4.1.1)\n",
            "Requirement already satisfied: six>=1.5 in /usr/local/lib/python3.7/dist-packages (from python-dateutil>=2.1->matplotlib->mne) (1.15.0)\n",
            "Installing collected packages: mne\n",
            "Successfully installed mne-1.1.1\n"
          ]
        }
      ],
      "source": [
        "# !git clone https://github.com/aliasvishnu/EEGNet.git\n",
        "!pip install mne\n",
        "# !pip install librosa\n",
        "# mne"
      ]
    },
    {
      "cell_type": "code",
      "source": [
        "import torch\n",
        "import torchvision\n",
        "import mne\n",
        "import matplotlib.pyplot as plt\n",
        "import numpy as np\n",
        "import math\n",
        "import matplotlib.image as mpimg\n",
        "from matplotlib.backends.backend_agg import FigureCanvasAgg as FigureCanvas\n",
        "import librosa\n",
        "from sklearn.preprocessing import normalize\n",
        "import os\n",
        "from mne.time_frequency import tfr_morlet,  tfr_array_morlet\n",
        "from mne.baseline import rescale\n",
        "from mne.viz import centers_to_edges\n",
        "from google.colab.patches import cv2_imshow\n",
        "import cv2\n",
        "import io"
      ],
      "metadata": {
        "id": "ifZMAxkVaF0l"
      },
      "execution_count": null,
      "outputs": []
    },
    {
      "cell_type": "code",
      "source": [
        "# model"
      ],
      "metadata": {
        "id": "BgaWm2PvctMo"
      },
      "execution_count": null,
      "outputs": []
    },
    {
      "cell_type": "code",
      "source": [
        "sample_data_folder = mne.datasets.sample.data_path()\n",
        "sample_data_raw_file = (sample_data_folder / 'MEG' / 'sample' /\n",
        "                        'sample_audvis_filt-0-40_raw.fif')\n",
        "raw = mne.io.read_raw_fif(sample_data_raw_file)"
      ],
      "metadata": {
        "colab": {
          "base_uri": "https://localhost:8080/"
        },
        "id": "xl9GHK_9bRQr",
        "outputId": "83f9b8df-8f3b-4298-a8ae-477137b707fc"
      },
      "execution_count": null,
      "outputs": [
        {
          "output_type": "stream",
          "name": "stdout",
          "text": [
            "Using default location ~/mne_data for sample...\n",
            "Creating ~/mne_data\n"
          ]
        },
        {
          "output_type": "stream",
          "name": "stderr",
          "text": [
            "Downloading file 'MNE-sample-data-processed.tar.gz' from 'https://osf.io/86qa2/download?version=6' to '/root/mne_data'.\n",
            "100%|██████████████████████████████████████| 1.65G/1.65G [00:00<00:00, 390GB/s]\n",
            "Untarring contents of '/root/mne_data/MNE-sample-data-processed.tar.gz' to '/root/mne_data'\n"
          ]
        },
        {
          "output_type": "stream",
          "name": "stdout",
          "text": [
            "Attempting to create new mne-python configuration file:\n",
            "/root/.mne/mne-python.json\n",
            "Opening raw data file /root/mne_data/MNE-sample-data/MEG/sample/sample_audvis_filt-0-40_raw.fif...\n",
            "    Read a total of 4 projection items:\n",
            "        PCA-v1 (1 x 102)  idle\n",
            "        PCA-v2 (1 x 102)  idle\n",
            "        PCA-v3 (1 x 102)  idle\n",
            "        Average EEG reference (1 x 60)  idle\n",
            "    Range : 6450 ... 48149 =     42.956 ...   320.665 secs\n",
            "Ready.\n"
          ]
        }
      ]
    },
    {
      "cell_type": "code",
      "source": [
        "# ica = mne.preprocessing.ICA(n_components=20, random_state=97, max_iter=800)\n",
        "# orig_raw = raw.copy()\n",
        "# raw.load_data()\n",
        "# # ica.apply(raw)\n",
        "\n",
        "# # show some frontal channels to clearly illustrate the artifact removal\n",
        "# chs = ['MEG 0111', 'MEG 0121', 'MEG 0131', 'MEG 0211', 'MEG 0221', 'MEG 0231',\n",
        "#        'MEG 0311', 'MEG 0321', 'MEG 0331', 'MEG 1511', 'MEG 1521', 'MEG 1531',\n",
        "#        'EEG 001', 'EEG 002', 'EEG 003', 'EEG 004', 'EEG 005', 'EEG 006',\n",
        "#        'EEG 007', 'EEG 008']\n",
        "# chan_idxs = [raw.ch_names.index(ch) for ch in chs]\n",
        "# orig_raw.plot(order=chan_idxs, start=12, duration=4)\n",
        "# raw.plot(order=chan_idxs, start=12, duration=4)\n",
        "\n",
        "root = mne.datasets.sample.data_path() / 'MEG' / 'sample'\n",
        "raw_file = root / 'sample_audvis_filt-0-40_raw.fif'\n",
        "raw = mne.io.read_raw_fif(raw_file, preload=False)\n",
        "\n",
        "# events_file = root / 'sample_audvis_filt-0-40_raw-eve.fif'\n",
        "# events = mne.read_events(events_file)\n",
        "\n",
        "# raw.crop(tmax=90)  # in seconds (happens in-place)\n",
        "# discard events >90 seconds (not strictly necessary, but avoids some warnings)\n",
        "# events = events[events[:, 0] <= raw.last_samp]\n",
        "# events = mne.find_events(raw, stim_channel='EEG 003')\n",
        "events = mne.find_events(raw, stim_channel='STI 014')\n",
        "picks = mne.pick_types(raw.info, meg='grad', eeg=True, eog=True, stim=False)\n",
        "print(events[:5])  # show the first 5"
      ],
      "metadata": {
        "colab": {
          "base_uri": "https://localhost:8080/"
        },
        "id": "Q6LSOQg1bSsL",
        "outputId": "927e1e72-11be-4e59-b0f8-208c67179738"
      },
      "execution_count": null,
      "outputs": [
        {
          "output_type": "stream",
          "name": "stdout",
          "text": [
            "Opening raw data file /root/mne_data/MNE-sample-data/MEG/sample/sample_audvis_filt-0-40_raw.fif...\n",
            "    Read a total of 4 projection items:\n",
            "        PCA-v1 (1 x 102)  idle\n",
            "        PCA-v2 (1 x 102)  idle\n",
            "        PCA-v3 (1 x 102)  idle\n",
            "        Average EEG reference (1 x 60)  idle\n",
            "    Range : 6450 ... 48149 =     42.956 ...   320.665 secs\n",
            "Ready.\n",
            "319 events found\n",
            "Event IDs: [ 1  2  3  4  5 32]\n",
            "[[6994    0    2]\n",
            " [7086    0    3]\n",
            " [7192    0    1]\n",
            " [7304    0    4]\n",
            " [7413    0    2]]\n"
          ]
        }
      ]
    },
    {
      "cell_type": "code",
      "source": [
        "# event_dict = {'auditory/left': 1, 'auditory/right': 2, 'visual/left': 3,\n",
        "#               'visual/right': 4, 'smiley': 5, 'buttonpress': 32}\n",
        "# reject_criteria = dict(mag=4000e-15,     # 4000 fT\n",
        "#                        grad=4000e-13,    # 4000 fT/cm\n",
        "#                        eeg=150e-6,       # 150 µV\n",
        "#                        eog=250e-6)       # 250 µV\n",
        "# epochs = mne.Epochs(raw, events, event_id=event_dict, tmin=-0.2, tmax=0.5,\n",
        "#                     reject=reject_criteria, preload=True)\n",
        "\n",
        "event_id, tmin, tmax = 1, -1., 3.\n",
        "baseline = (None, 0)\n",
        "epochs = mne.Epochs(raw, events, event_id, tmin, tmax, picks=picks,\n",
        "                    baseline=baseline, reject=dict(grad=4000e-13, eog=350e-6),\n",
        "                    preload=True)"
      ],
      "metadata": {
        "colab": {
          "base_uri": "https://localhost:8080/"
        },
        "id": "6fXaLyEBeMJ_",
        "outputId": "90da519f-32ac-432a-e887-8e918f963585"
      },
      "execution_count": null,
      "outputs": [
        {
          "output_type": "stream",
          "name": "stdout",
          "text": [
            "Not setting metadata\n",
            "72 matching events found\n",
            "Setting baseline interval to [-0.9989760657919393, 0.0] sec\n",
            "Applying baseline correction (mode: mean)\n",
            "Created an SSP operator (subspace dimension = 1)\n",
            "4 projection items activated\n",
            "Loading data for 72 events and 601 original time points ...\n",
            "    Rejecting  epoch based on EOG : ['EOG 061']\n",
            "    Rejecting  epoch based on EOG : ['EOG 061']\n",
            "    Rejecting  epoch based on EOG : ['EOG 061']\n",
            "    Rejecting  epoch based on EOG : ['EOG 061']\n",
            "    Rejecting  epoch based on EOG : ['EOG 061']\n",
            "5 bad epochs dropped\n"
          ]
        }
      ]
    },
    {
      "cell_type": "code",
      "source": [
        "# conds_we_care_about = ['auditory/left', 'auditory/right',\n",
        "#                        'visual/left', 'visual/right']\n",
        "# epochs.equalize_event_counts(conds_we_care_about)  # this operates in-place\n",
        "# aud_epochs = epochs['auditory']\n",
        "# vis_epochs = epochs['visual']\n",
        "# del raw, epochs  # free up memory\n"
      ],
      "metadata": {
        "id": "hSnmosoXBAnj"
      },
      "execution_count": null,
      "outputs": []
    },
    {
      "cell_type": "code",
      "source": [
        "# data = raw.pick(['eeg', 'eog']).load_data()\n",
        "# frequencies = np.arange(7, 30, 3)\n",
        "# power = mne.time_frequency.tfr_morlet(aud_epochs, n_cycles=2, return_itc=False,\n",
        "#                                       freqs=frequencies, decim=3)\n",
        "# power.plot(['EEG 004'])\n",
        "\n",
        "freqs = np.logspace(*np.log10([6, 35]), num=5)\n",
        "n_cycles = freqs / 2.  # different number of cycle per frequency\n",
        "power, itc = tfr_morlet(epochs, freqs=freqs, n_cycles=n_cycles, use_fft=True,\n",
        "                        return_itc=True, decim=3, n_jobs=None)\n",
        "# print(power.ch_names[-2])\n",
        "# power.plot_topo(baseline=(-0.5, 0), mode='logratio', title='Average power')\n",
        "print(power.data.shape)\n",
        "fig = power._plot([-2], baseline=(-0.5, 0), colorbar=False, mode='logratio', axes=None, layout=None)[0]\n",
        "# fig, axis = plt.subplots(1, 2, figsize=(7, 4))\n",
        "# power.plot_topomap(ch_type='grad', tmin=0.5, tmax=1.5, fmin=8, fmax=12,\n",
        "#                    baseline=(-0.5, 0), mode='logratio', axes=axis[0],\n",
        "#                    title='Alpha', show=False)\n",
        "# power.plot_topomap(ch_type='grad', tmin=0.5, tmax=1.5, fmin=13, fmax=25,\n",
        "#                    baseline=(-0.5, 0), mode='logratio', axes=axis[1],\n",
        "#                    title='Beta', show=False)\n",
        "# mne.viz.tight_layout()\n",
        "# plt.show()"
      ],
      "metadata": {
        "id": "Xgvg42cl5rFB",
        "colab": {
          "base_uri": "https://localhost:8080/",
          "height": 470
        },
        "outputId": "d938cd67-9ee6-4b1d-98d6-b501d20c8c40"
      },
      "execution_count": null,
      "outputs": [
        {
          "output_type": "stream",
          "name": "stderr",
          "text": [
            "[Parallel(n_jobs=1)]: Using backend SequentialBackend with 1 concurrent workers.\n",
            "[Parallel(n_jobs=1)]: Done   1 out of   1 | elapsed:    0.0s remaining:    0.0s\n",
            "[Parallel(n_jobs=1)]: Done   2 out of   2 | elapsed:    0.0s remaining:    0.0s\n",
            "[Parallel(n_jobs=1)]: Done   3 out of   3 | elapsed:    0.0s remaining:    0.0s\n",
            "[Parallel(n_jobs=1)]: Done   4 out of   4 | elapsed:    0.1s remaining:    0.0s\n"
          ]
        },
        {
          "output_type": "stream",
          "name": "stdout",
          "text": [
            "(262, 5, 201)\n",
            "Removing projector <Projection | PCA-v1, active : True, n_channels : 102>\n",
            "Removing projector <Projection | PCA-v2, active : True, n_channels : 102>\n",
            "Removing projector <Projection | PCA-v3, active : True, n_channels : 102>\n",
            "Applying baseline correction (mode: logratio)\n"
          ]
        },
        {
          "output_type": "stream",
          "name": "stderr",
          "text": [
            "[Parallel(n_jobs=1)]: Done 262 out of 262 | elapsed:    3.7s finished\n"
          ]
        },
        {
          "output_type": "display_data",
          "data": {
            "text/plain": [
              "<Figure size 432x288 with 1 Axes>"
            ],
            "image/png": "[encoded data removed]"
          },
          "metadata": {
            "needs_background": "light"
          }
        }
      ]
    },
    {
      "cell_type": "code",
      "source": [
        "# the rest is matplotlib commands for manipulating figure/axes elements\n",
        "fig.suptitle('')  # remove the title\n",
        "# you can print fig.axes to determine which is the image and which is the colorbar\n",
        "# fig.axes[1].remove()  # remove colorbar\n",
        "fig.axes[0].set_axis_off()  # remove ticks, etc\n",
        "fig.axes[0].set_position((0,0,1,1))  # remove margins\n",
        "fig.savefig('whatever.png')\n",
        "img = mpimg.imread('whatever.png')"
      ],
      "metadata": {
        "id": "uxu14HPxRK96"
      },
      "execution_count": null,
      "outputs": []
    },
    {
      "cell_type": "code",
      "source": [
        "plt.axis('off')\n",
        "plt.imshow(img_2)\n",
        "plt.show()"
      ],
      "metadata": {
        "colab": {
          "base_uri": "https://localhost:8080/",
          "height": 248
        },
        "id": "RFENs2uR5zJ6",
        "outputId": "66287c13-01b5-4477-896d-fb800f613ffd"
      },
      "execution_count": null,
      "outputs": [
        {
          "output_type": "display_data",
          "data": {
            "text/plain": [
              "<Figure size 432x288 with 1 Axes>"
            ],
            "image/png": "[encoded data removed]"
          },
          "metadata": {
            "needs_background": "light"
          }
        }
      ]
    },
    {
      "cell_type": "code",
      "source": [
        "# print(img.shape)\n",
        "# print(img.dtype)\n",
        "# print(img)\n",
        "# img = img[:,:,0:3]"
      ],
      "metadata": {
        "id": "cQKtygi9k3gd"
      },
      "execution_count": null,
      "outputs": []
    },
    {
      "cell_type": "code",
      "source": [
        "print(img.shape)\n",
        "print(img.dtype)\n",
        "print(img)"
      ],
      "metadata": {
        "colab": {
          "base_uri": "https://localhost:8080/"
        },
        "id": "Z4TYUsZxmupa",
        "outputId": "cb43ea6a-a37d-453e-8723-2bb3f65a40fd"
      },
      "execution_count": null,
      "outputs": [
        {
          "output_type": "stream",
          "name": "stdout",
          "text": [
            "(288, 432, 3)\n",
            "float32\n",
            "[[[0.9764706  0.9411765  0.92156863]\n",
            "  [0.9764706  0.9411765  0.92156863]\n",
            "  [0.99215686 0.8666667  0.79607844]\n",
            "  ...\n",
            "  [0.9764706  0.9372549  0.9137255 ]\n",
            "  [0.9764706  0.9372549  0.9137255 ]\n",
            "  [0.9764706  0.9372549  0.9137255 ]]\n",
            "\n",
            " [[0.9764706  0.9411765  0.92156863]\n",
            "  [0.9764706  0.9411765  0.92156863]\n",
            "  [0.99215686 0.8666667  0.79607844]\n",
            "  ...\n",
            "  [0.9764706  0.9372549  0.9137255 ]\n",
            "  [0.9764706  0.9372549  0.9137255 ]\n",
            "  [0.9764706  0.9372549  0.9137255 ]]\n",
            "\n",
            " [[0.9764706  0.9411765  0.92156863]\n",
            "  [0.9764706  0.9411765  0.92156863]\n",
            "  [0.99215686 0.8666667  0.79607844]\n",
            "  ...\n",
            "  [0.9764706  0.9372549  0.9137255 ]\n",
            "  [0.9764706  0.9372549  0.9137255 ]\n",
            "  [0.9764706  0.9372549  0.9137255 ]]\n",
            "\n",
            " ...\n",
            "\n",
            " [[0.60784316 0.7882353  0.8784314 ]\n",
            "  [0.60784316 0.7882353  0.8784314 ]\n",
            "  [0.89411765 0.93333334 0.95686275]\n",
            "  ...\n",
            "  [0.8117647  0.89411765 0.9372549 ]\n",
            "  [0.8117647  0.89411765 0.9372549 ]\n",
            "  [0.8117647  0.89411765 0.9372549 ]]\n",
            "\n",
            " [[0.60784316 0.7882353  0.8784314 ]\n",
            "  [0.60784316 0.7882353  0.8784314 ]\n",
            "  [0.89411765 0.93333334 0.95686275]\n",
            "  ...\n",
            "  [0.8117647  0.89411765 0.9372549 ]\n",
            "  [0.8117647  0.89411765 0.9372549 ]\n",
            "  [0.8117647  0.89411765 0.9372549 ]]\n",
            "\n",
            " [[0.60784316 0.7882353  0.8784314 ]\n",
            "  [0.60784316 0.7882353  0.8784314 ]\n",
            "  [0.89411765 0.93333334 0.95686275]\n",
            "  ...\n",
            "  [0.8117647  0.89411765 0.9372549 ]\n",
            "  [0.8117647  0.89411765 0.9372549 ]\n",
            "  [0.8117647  0.89411765 0.9372549 ]]]\n"
          ]
        }
      ]
    },
    {
      "cell_type": "code",
      "source": [
        "# def fig2data ( fig ):\n",
        "#     # draw the renderer\n",
        "#     fig.canvas.draw ( )\n",
        " \n",
        "#     # Get the RGBA buffer from the figure\n",
        "#     w,h = fig.canvas.get_width_height()\n",
        "#     buf = np.fromstring ( fig.canvas.tostring_argb(), dtype=np.uint8 )\n",
        "#     buf.shape = ( w, h,4 )\n",
        " \n",
        "#     # canvas.tostring_argb give pixmap in ARGB mode. Roll the ALPHA channel to have it in RGBA mode\n",
        "#     buf = np.roll ( buf, 3, axis = 2 )\n",
        "#     return buf\n",
        "# def plt2arr(fig, draw=True):\n",
        "#     if draw:\n",
        "#         fig.canvas.draw()\n",
        "#     rgba_buf = fig.canvas.buffer_rgba()\n",
        "#     (w,h) = fig.canvas.get_width_height()\n",
        "#     rgba_arr = np.frombuffer(rgba_buf, dtype=np.uint8).reshape((h,w,4))\n",
        "#     return rgba_arr\n",
        "\n",
        "def get_img_from_fig(fig, dpi=180):\n",
        "    fig.axes[0].get_xaxis().set_visible(False)\n",
        "    fig.axes[0].get_yaxis().set_visible(False)\n",
        "    fig.axes[0].set_axis_off()\n",
        "    fig.axes[0].set_position((0,0,1,1))\n",
        "    buf = io.BytesIO()\n",
        "    # plt.savefig('test.png', bbox_inches='tight',pad = 0, dpi = 180)\n",
        "    fig.savefig(buf, format=\"png\", bbox_inches='tight',pad = 0,dpi=fig.dpi)\n",
        "    buf.seek(0)\n",
        "    img_arr = np.frombuffer(buf.getvalue(), dtype=np.uint8)\n",
        "    buf.close()\n",
        "    img = cv2.imdecode(img_arr, 1)\n",
        "    img = cv2.cvtColor(img, cv2.COLOR_BGR2RGB)\n",
        "    return img"
      ],
      "metadata": {
        "id": "UX7Sxl2-11L3"
      },
      "execution_count": null,
      "outputs": []
    },
    {
      "cell_type": "code",
      "source": [
        "# img = np.array(data_pow.canvas.renderer.buffer_rgba())\n",
        "# img.shape\n",
        "# itc.data.shape\n",
        "# data_pow.axes.get_xaxis().set_visible(False)\n",
        "# data_pow.axes.get_yaxis().set_visible(False)\n",
        "fig.axes[0].get_xaxis().set_visible(False)\n",
        "fig.axes[0].get_yaxis().set_visible(False)\n",
        "# data_pow\n",
        "img_orig_1 = get_img_from_fig(fig)\n",
        "print(img_orig_1.shape)\n",
        "plt.axis('off')\n",
        "# cv2_imshow(img_orig_1)\n",
        "plt.imshow(img_orig_1)\n",
        "plt.show()\n",
        "# del(img_orig)"
      ],
      "metadata": {
        "colab": {
          "base_uri": "https://localhost:8080/",
          "height": 265
        },
        "id": "xiplsbUldb0A",
        "outputId": "4a8371d3-cdfa-4995-ac9b-4ab98504e571"
      },
      "execution_count": null,
      "outputs": [
        {
          "output_type": "stream",
          "name": "stdout",
          "text": [
            "(302, 446, 3)\n"
          ]
        },
        {
          "output_type": "display_data",
          "data": {
            "text/plain": [
              "<Figure size 432x288 with 1 Axes>"
            ],
            "image/png": "[encoded data removed]"
          },
          "metadata": {
            "needs_background": "light"
          }
        }
      ]
    },
    {
      "cell_type": "code",
      "source": [
        "# data_pow.axes[0].get_xaxis().set_visible(False)\n",
        "# data_pow.axes[0].get_yaxis().set_visible(False)\n",
        "img_orig_2 = get_img_from_fig(fig)\n",
        "plt.axis('off')\n",
        "plt.imshow(img_orig_2)\n",
        "plt.savefig('test.png', bbox_inches='tight',pad = 0, dpi = 180)\n",
        "plt.show()"
      ],
      "metadata": {
        "colab": {
          "base_uri": "https://localhost:8080/",
          "height": 248
        },
        "id": "zet2jv9DA20E",
        "outputId": "6f8c1bbd-d41d-4620-c1d7-f7e481060fd6"
      },
      "execution_count": null,
      "outputs": [
        {
          "output_type": "display_data",
          "data": {
            "text/plain": [
              "<Figure size 432x288 with 1 Axes>"
            ],
            "image/png": "[encoded data removed]"
          },
          "metadata": {
            "needs_background": "light"
          }
        }
      ]
    },
    {
      "cell_type": "code",
      "source": [
        "# signal = data.get_data(['EEG 003']).squeeze()\n",
        "# print(signal.shape)\n",
        "# data_pow.data"
      ],
      "metadata": {
        "id": "Ej4nlST-5zZf"
      },
      "execution_count": null,
      "outputs": []
    },
    {
      "cell_type": "code",
      "source": [
        "# plt.plot(signal)\n",
        "# plt.show()"
      ],
      "metadata": {
        "id": "kLqqvJjd52-f"
      },
      "execution_count": null,
      "outputs": []
    },
    {
      "cell_type": "code",
      "source": [
        "# powerSpectrum, freqenciesFound, time, imageAxis = plt.specgram(signal, Fs=150.15)\n",
        "\n",
        "# plt.xlabel('Time')\n",
        "\n",
        "# plt.ylabel('Frequency')\n",
        "\n",
        " \n",
        "\n",
        "# plt.show()  \n",
        "\n",
        "\n",
        "# # powerSpectrum = 10*math.log10(powerSpectrum.flatten())\n",
        "# # powerSpectrum.flatten().shape\n",
        "# data = imageAxis.get_array().data\n",
        "# data = data.astype(int)\n",
        "# # data = data.astype(np.double)\n",
        "# print(data)\n",
        "# print(data.dtype)\n",
        "# img = np.stack((data,data,data))\n",
        "# # img = img.astype(np.double)\n",
        "# print(img.shape)\n",
        "# print(img.dtype)"
      ],
      "metadata": {
        "id": "PMg6eMJ562RG"
      },
      "execution_count": null,
      "outputs": []
    },
    {
      "cell_type": "code",
      "source": [
        "# mel = librosa.feature.melspectrogram(signal, sr=150.15, n_fft=256, hop_length=128)"
      ],
      "metadata": {
        "id": "XeU-ayAB9t34"
      },
      "execution_count": null,
      "outputs": []
    },
    {
      "cell_type": "code",
      "source": [
        "# img = torch.tensor(img)\n",
        "# img = img.type(torch.LongTensor)\n",
        "# # img = img.double()\n",
        "# # img = img.reshape(1,img.shape[0],img.shape[1])\n",
        "# print(img.shape)\n",
        "# print(img.dtype)\n",
        "# log_mel_1 = librosa.power_to_db(mel)\n",
        "# log_mel_1 = np.flipud(log_mel_1)\n",
        "# # print(mel)\n",
        "# print(log_mel.dtype)\n",
        "# log_mel = log_mel_1.astype(np.double)\n",
        "# print(log_mel.dtype)\n",
        "# log_mel = np.stack((log_mel, log_mel, log_mel))\n",
        "# img = torch.tensor(log_mel, dtype=torch.float32)\n",
        "# # img = img.type(torch.LongTensor)\n",
        "# print(img.dtype)"
      ],
      "metadata": {
        "id": "h-n8YhQH-JbS"
      },
      "execution_count": null,
      "outputs": []
    },
    {
      "cell_type": "code",
      "source": [
        "# plt.imshow(log_mel_1)\n",
        "# plt.show()"
      ],
      "metadata": {
        "id": "7PDf0Mw3KS_I"
      },
      "execution_count": null,
      "outputs": []
    },
    {
      "cell_type": "code",
      "source": [
        "model = torch.hub.load('pytorch/vision:v0.10.0', 'vgg16', pretrained=True)"
      ],
      "metadata": {
        "colab": {
          "base_uri": "https://localhost:8080/",
          "height": 176,
          "referenced_widgets": [
            "3774a3179e9347e1bc65a3d78aaf124f",
            "2fd67d744ee9417398d18ec6e5efba68",
            "f2f5ec55b57e4657872180feb7a28a6c",
            "6ee682df1333446a9f4e325ea7750885",
            "1f66324d9b88477b9963184373e7c8f4",
            "027a485528644758b5620950a088c30f",
            "84d715194e45469f9019f10a027f5a1b",
            "ef5128c63e504f3fa46f7ae4f9855058",
            "b4657ccdf5004f4eb353b89b5c1f6ded",
            "7de4b8f7019a41c2bf640532de8deb03",
            "06529ce4fe334a6a89b125bcd5d058a7"
          ]
        },
        "id": "MzF4dJzDUQuu",
        "outputId": "00f02979-a00e-4f02-e350-c6f7aef9829c"
      },
      "execution_count": null,
      "outputs": [
        {
          "output_type": "stream",
          "name": "stderr",
          "text": [
            "Downloading: \"https://github.com/pytorch/vision/zipball/v0.10.0\" to /root/.cache/torch/hub/v0.10.0.zip\n",
            "/usr/local/lib/python3.7/dist-packages/torchvision/models/_utils.py:209: UserWarning: The parameter 'pretrained' is deprecated since 0.13 and will be removed in 0.15, please use 'weights' instead.\n",
            "  f\"The parameter '{pretrained_param}' is deprecated since 0.13 and will be removed in 0.15, \"\n",
            "/usr/local/lib/python3.7/dist-packages/torchvision/models/_utils.py:223: UserWarning: Arguments other than a weight enum or `None` for 'weights' are deprecated since 0.13 and will be removed in 0.15. The current behavior is equivalent to passing `weights=VGG16_Weights.IMAGENET1K_V1`. You can also use `weights=VGG16_Weights.DEFAULT` to get the most up-to-date weights.\n",
            "  warnings.warn(msg)\n",
            "Downloading: \"https://download.pytorch.org/models/vgg16-397923af.pth\" to /root/.cache/torch/hub/checkpoints/vgg16-397923af.pth\n"
          ]
        },
        {
          "output_type": "display_data",
          "data": {
            "text/plain": [
              "  0%|          | 0.00/528M [00:00<?, ?B/s]"
            ],
            "application/vnd.jupyter.widget-view+json": {
              "version_major": 2,
              "version_minor": 0,
              "model_id": "3774a3179e9347e1bc65a3d78aaf124f"
            }
          },
          "metadata": {}
        }
      ]
    },
    {
      "cell_type": "code",
      "source": [
        "layers = [2,4,7,9,12,14,16,19,21,23,26,28,30]"
      ],
      "metadata": {
        "id": "JsDB_A5NN5SA"
      },
      "execution_count": null,
      "outputs": []
    },
    {
      "cell_type": "code",
      "source": [
        "def uae(f_map):\n",
        "  value=0\n",
        "  for i in range(f_map.shape[0]):\n",
        "    for j in range(f_map.shape[1]):\n",
        "      for k in range(f_map.shape[2]):\n",
        "        value = value + f_map[i][j][k]\n",
        "  return value/(f_map.shape[0]*f_map.shape[1]*f_map.shape[2])"
      ],
      "metadata": {
        "id": "G_xkOjglykze"
      },
      "execution_count": null,
      "outputs": []
    },
    {
      "cell_type": "code",
      "source": [
        "def energy_map(f_map):\n",
        "  map = np.zeros((f_map.shape[1], f_map.shape[2]))\n",
        "  for i in range(f_map.shape[0]):\n",
        "    map = map + f_map[i]\n",
        "  map = map/f_map.shape[0]\n",
        "  return map"
      ],
      "metadata": {
        "id": "e66-PJfR8PAT"
      },
      "execution_count": null,
      "outputs": []
    },
    {
      "cell_type": "code",
      "source": [
        "# model_new = torch.nn.Sequential(*list(model.children())[0][:9])\n",
        "# print(model_new)\n",
        "img = img_orig_2.reshape(img_orig_2.shape[2],img_orig_2.shape[0],img_orig_2.shape[1])\n",
        "print(img.shape)\n",
        "img = torch.tensor(img, dtype=torch.float32)"
      ],
      "metadata": {
        "colab": {
          "base_uri": "https://localhost:8080/"
        },
        "id": "H4cuOEpP-oVt",
        "outputId": "904ff05c-6c18-4f98-d9a8-02c5abe51316"
      },
      "execution_count": null,
      "outputs": [
        {
          "output_type": "stream",
          "name": "stdout",
          "text": [
            "(3, 235, 352)\n"
          ]
        }
      ]
    },
    {
      "cell_type": "code",
      "source": [
        "value = []\n",
        "for i in layers:\n",
        "  model_new = torch.nn.Sequential(*list(model.children())[0][:i])\n",
        "  res = model_new(img)\n",
        "  res = res.detach().numpy()\n",
        "  value.append(uae(res))"
      ],
      "metadata": {
        "id": "WPGO577Ha6qp"
      },
      "execution_count": null,
      "outputs": []
    },
    {
      "cell_type": "code",
      "source": [
        "# res.shape\n",
        "# res = res.detach().numpy()\n",
        "# res.shape"
      ],
      "metadata": {
        "id": "lu4rCRcHfCr4"
      },
      "execution_count": null,
      "outputs": []
    },
    {
      "cell_type": "code",
      "source": [
        "# plt.imshow(res[0])\n",
        "# plt.show()\n",
        "print(res.shape)\n",
        "# plt.figure(figsize=(20, 20))\n",
        "# for i in range(res.shape[0]):\n",
        "#   ax = plt.subplot(10, 13, i+1)\n",
        "#   plt.imshow(res[i])\n",
        "#   plt.title(\"layer \"+str(i))\n",
        "#   plt.axis(\"off\")\n",
        "# plt.tight_layout()"
      ],
      "metadata": {
        "colab": {
          "base_uri": "https://localhost:8080/"
        },
        "id": "2VrakJ1zyfgU",
        "outputId": "22d2daea-81e8-46ae-8934-651961eca386"
      },
      "execution_count": null,
      "outputs": [
        {
          "output_type": "stream",
          "name": "stdout",
          "text": [
            "(512, 14, 22)\n"
          ]
        }
      ]
    },
    {
      "cell_type": "code",
      "source": [
        "plt.plot(value)\n",
        "plt.show()"
      ],
      "metadata": {
        "colab": {
          "base_uri": "https://localhost:8080/",
          "height": 265
        },
        "id": "eSzy1NLxBADu",
        "outputId": "99161f47-e029-4e5d-ed5b-8dd17c02d27c"
      },
      "execution_count": null,
      "outputs": [
        {
          "output_type": "display_data",
          "data": {
            "text/plain": [
              "<Figure size 432x288 with 1 Axes>"
            ],
            "image/png": "[encoded data removed]"
          },
          "metadata": {
            "needs_background": "light"
          }
        }
      ]
    },
    {
      "cell_type": "code",
      "source": [
        "model_test = torch.nn.Sequential(*list(model.children())[0][:layers[4]])\n",
        "res = model_test(img)\n",
        "res = res.detach().numpy()\n",
        "res_energy = energy_map(res)"
      ],
      "metadata": {
        "id": "ik1w6WMi93FC"
      },
      "execution_count": null,
      "outputs": []
    },
    {
      "cell_type": "code",
      "source": [
        "res_energy.shape"
      ],
      "metadata": {
        "colab": {
          "base_uri": "https://localhost:8080/"
        },
        "id": "cxNYrkIScRcs",
        "outputId": "8335121e-6a32-43f2-c331-22d75b38f3b7"
      },
      "execution_count": null,
      "outputs": [
        {
          "output_type": "execute_result",
          "data": {
            "text/plain": [
              "(58, 88)"
            ]
          },
          "metadata": {},
          "execution_count": 30
        }
      ]
    },
    {
      "cell_type": "code",
      "source": [
        "plt.imshow(res_energy)\n",
        "plt.show()"
      ],
      "metadata": {
        "colab": {
          "base_uri": "https://localhost:8080/",
          "height": 267
        },
        "id": "bqJAvrHo9GVe",
        "outputId": "091159a9-4460-40b8-8cee-aa17a32f60ad"
      },
      "execution_count": null,
      "outputs": [
        {
          "output_type": "display_data",
          "data": {
            "text/plain": [
              "<Figure size 432x288 with 1 Axes>"
            ],
            "image/png": "[encoded data removed]"
          },
          "metadata": {
            "needs_background": "light"
          }
        }
      ]
    },
    {
      "cell_type": "code",
      "source": [
        "res_energy_scaled = cv2.resize(res_energy,(352,235), interpolation = cv2.INTER_LINEAR)"
      ],
      "metadata": {
        "id": "iXgtislfDksU"
      },
      "execution_count": null,
      "outputs": []
    },
    {
      "cell_type": "code",
      "source": [
        "res_energy_scaled.shape"
      ],
      "metadata": {
        "id": "mvOWgSvYtGuS",
        "colab": {
          "base_uri": "https://localhost:8080/"
        },
        "outputId": "409fd083-a43f-48b9-820f-c965af268a72"
      },
      "execution_count": null,
      "outputs": [
        {
          "output_type": "execute_result",
          "data": {
            "text/plain": [
              "(235, 352)"
            ]
          },
          "metadata": {},
          "execution_count": 33
        }
      ]
    },
    {
      "cell_type": "code",
      "source": [
        "# plt.imshow(res_energy_scaled)\n",
        "# plt.show()\n",
        "# plt.hist(res_energy_scaled.ravel(), bins=256, range=(110.0, 300.0), fc='k', ec='k')\n",
        "# np.min(res_energy_scaled)\n",
        "res_energy_scaled_bin = res_energy_scaled.copy()\n",
        "res_energy_scaled_bin[res_energy_scaled >= 200] = 1\n",
        "res_energy_scaled_bin[res_energy_scaled < 200] = 0"
      ],
      "metadata": {
        "id": "RMs6cCFU2ci9"
      },
      "execution_count": null,
      "outputs": []
    },
    {
      "cell_type": "code",
      "source": [
        "plt.imshow(res_energy_scaled_bin)\n",
        "plt.show()"
      ],
      "metadata": {
        "colab": {
          "base_uri": "https://localhost:8080/",
          "height": 269
        },
        "id": "HCo5Hs04ATfj",
        "outputId": "6d204920-360e-4925-a40e-427000f5d5cf"
      },
      "execution_count": null,
      "outputs": [
        {
          "output_type": "display_data",
          "data": {
            "text/plain": [
              "<Figure size 432x288 with 1 Axes>"
            ],
            "image/png": "[encoded data removed]"
          },
          "metadata": {
            "needs_background": "light"
          }
        }
      ]
    },
    {
      "cell_type": "code",
      "source": [
        "img = img.detach().numpy()"
      ],
      "metadata": {
        "id": "VPbmkbR77BCB"
      },
      "execution_count": null,
      "outputs": []
    },
    {
      "cell_type": "code",
      "source": [
        "array_data = img_orig_2.copy()\n",
        "array_data[np.where(res_energy_scaled_bin == 0)] = 0\n",
        "plt.imshow(array_data)\n",
        "plt.show()"
      ],
      "metadata": {
        "colab": {
          "base_uri": "https://localhost:8080/",
          "height": 269
        },
        "id": "cj5Px4WLnVJs",
        "outputId": "d195511f-21b8-4d2c-ae5d-1d9745c63d41"
      },
      "execution_count": null,
      "outputs": [
        {
          "output_type": "display_data",
          "data": {
            "text/plain": [
              "<Figure size 432x288 with 1 Axes>"
            ],
            "image/png": "[encoded data removed]"
          },
          "metadata": {
            "needs_background": "light"
          }
        }
      ]
    },
    {
      "cell_type": "code",
      "source": [],
      "metadata": {
        "id": "pFqF_YyabhyM"
      },
      "execution_count": null,
      "outputs": []
    }
  ]
}